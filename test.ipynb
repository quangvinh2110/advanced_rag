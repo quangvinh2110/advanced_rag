{
 "cells": [
  {
   "cell_type": "code",
   "execution_count": 4,
   "metadata": {},
   "outputs": [],
   "source": [
    "from operator import itemgetter\n",
    "\n",
    "def format_docs(docs):\n",
    "    return \"\\n\\n\".join(doc for doc in docs)\n",
    "\n",
    "a = {\"question\": \"sdf\", \"documents\": [\"bgf\", \"fgsf\", \"fsfs\"]}\n",
    "tmp = itemgetter(\"question\")\n",
    "tmp1 = lambda input: format_docs(input[\"documents\"])"
   ]
  },
  {
   "cell_type": "code",
   "execution_count": 5,
   "metadata": {},
   "outputs": [
    {
     "data": {
      "text/plain": [
       "'bgf\\n\\nfgsf\\n\\nfsfs'"
      ]
     },
     "execution_count": 5,
     "metadata": {},
     "output_type": "execute_result"
    }
   ],
   "source": [
    "tmp1(a)"
   ]
  },
  {
   "cell_type": "code",
   "execution_count": 2,
   "metadata": {},
   "outputs": [
    {
     "data": {
      "text/plain": [
       "'sdf'"
      ]
     },
     "execution_count": 2,
     "metadata": {},
     "output_type": "execute_result"
    }
   ],
   "source": [
    "tmp(a)"
   ]
  },
  {
   "cell_type": "code",
   "execution_count": 1,
   "metadata": {},
   "outputs": [],
   "source": [
    "import os"
   ]
  },
  {
   "cell_type": "code",
   "execution_count": 6,
   "metadata": {},
   "outputs": [
    {
     "data": {
      "text/plain": [
       "'./retrieval/routers.py'"
      ]
     },
     "execution_count": 6,
     "metadata": {},
     "output_type": "execute_result"
    }
   ],
   "source": [
    "os.path.join(\"./retrieval/\", \"routers.py\")"
   ]
  },
  {
   "cell_type": "code",
   "execution_count": null,
   "metadata": {},
   "outputs": [],
   "source": []
  },
  {
   "cell_type": "code",
   "execution_count": null,
   "metadata": {},
   "outputs": [],
   "source": []
  },
  {
   "cell_type": "code",
   "execution_count": 1,
   "metadata": {},
   "outputs": [
    {
     "name": "stdout",
     "output_type": "stream",
     "text": [
      "a\n",
      "b\n"
     ]
    }
   ],
   "source": [
    "for k, v in {\"a\": \"b\"}.items():\n",
    "    print(k)\n",
    "    print(v)"
   ]
  },
  {
   "cell_type": "code",
   "execution_count": 1,
   "metadata": {},
   "outputs": [],
   "source": [
    "from src.retrieval.utils import docs_chunking\n",
    "from langchain.text_splitter import TokenTextSplitter"
   ]
  },
  {
   "cell_type": "code",
   "execution_count": 2,
   "metadata": {},
   "outputs": [],
   "source": [
    "input_dir = \"/home/vinhnq29/Public/advanced_RAG/langchain/db/wiki/docs\"\n",
    "extension = \"text\"\n",
    "output_dir = \"/home/vinhnq29/Public/advanced_RAG/langchain/db/wiki/chunks\"\n",
    "text_splitter = TokenTextSplitter(chunk_size=256, chunk_overlap=10)\n",
    "\n",
    "def add_chunk_metadata(doc: dict, chunk_text: str) -> dict:\n",
    "    chunk_metadata = {}\n",
    "    for k, v in doc.items():\n",
    "        chunk_metadata[f\"doc_{k}\"] = v\n",
    "    chunk_metadata.pop(\"doc_text\")\n",
    "    return chunk_metadata"
   ]
  },
  {
   "cell_type": "code",
   "execution_count": 3,
   "metadata": {},
   "outputs": [],
   "source": [
    "texts, metadatas = docs_chunking(\n",
    "    input_dir=input_dir,\n",
    "    extension=extension,\n",
    "    output_dir=output_dir,\n",
    "    text_splitter=text_splitter,\n",
    "    add_chunk_metadata=add_chunk_metadata\n",
    ")"
   ]
  },
  {
   "cell_type": "code",
   "execution_count": null,
   "metadata": {},
   "outputs": [],
   "source": [
    "text"
   ]
  },
  {
   "cell_type": "code",
   "execution_count": null,
   "metadata": {},
   "outputs": [],
   "source": []
  },
  {
   "cell_type": "code",
   "execution_count": null,
   "metadata": {},
   "outputs": [],
   "source": []
  },
  {
   "cell_type": "code",
   "execution_count": null,
   "metadata": {},
   "outputs": [],
   "source": [
    "# import nltk\n",
    "\n",
    "# nltk.download('punkt')"
   ]
  },
  {
   "cell_type": "code",
   "execution_count": 12,
   "metadata": {},
   "outputs": [],
   "source": [
    "import pandas as pd\n",
    "import glob\n",
    "from nltk.tokenize import sent_tokenize\n",
    "\n",
    "from tqdm import tqdm\n",
    "tqdm.pandas()"
   ]
  },
  {
   "cell_type": "code",
   "execution_count": 4,
   "metadata": {},
   "outputs": [],
   "source": [
    "data = []\n",
    "\n",
    "for filepath in glob.glob(\"./db/wiki/docs/*.parquet\"):\n",
    "    data.append(pd.read_parquet(filepath))\n",
    "    \n",
    "data = pd.concat(data, axis=0, ignore_index=True)"
   ]
  },
  {
   "cell_type": "code",
   "execution_count": 16,
   "metadata": {},
   "outputs": [
    {
     "name": "stderr",
     "output_type": "stream",
     "text": [
      "100%|██████████| 1287811/1287811 [02:50<00:00, 7570.70it/s] \n"
     ]
    }
   ],
   "source": [
    "data[\"n_sents\"] = data[\"text\"].progress_apply(lambda text: len(sent_tokenize(text)))"
   ]
  },
  {
   "cell_type": "code",
   "execution_count": 20,
   "metadata": {},
   "outputs": [
    {
     "name": "stderr",
     "output_type": "stream",
     "text": [
      "100%|██████████| 1287811/1287811 [00:11<00:00, 111453.57it/s]\n"
     ]
    }
   ],
   "source": [
    "data[\"n_words\"] = data[\"text\"].progress_apply(lambda text: len(text.split()))"
   ]
  },
  {
   "cell_type": "code",
   "execution_count": 33,
   "metadata": {},
   "outputs": [
    {
     "data": {
      "text/html": [
       "<div>\n",
       "<style scoped>\n",
       "    .dataframe tbody tr th:only-of-type {\n",
       "        vertical-align: middle;\n",
       "    }\n",
       "\n",
       "    .dataframe tbody tr th {\n",
       "        vertical-align: top;\n",
       "    }\n",
       "\n",
       "    .dataframe thead th {\n",
       "        text-align: right;\n",
       "    }\n",
       "</style>\n",
       "<table border=\"1\" class=\"dataframe\">\n",
       "  <thead>\n",
       "    <tr style=\"text-align: right;\">\n",
       "      <th></th>\n",
       "      <th>id</th>\n",
       "      <th>revid</th>\n",
       "      <th>url</th>\n",
       "      <th>title</th>\n",
       "      <th>text</th>\n",
       "      <th>n_paragraphs</th>\n",
       "      <th>n_sents</th>\n",
       "      <th>n_words</th>\n",
       "    </tr>\n",
       "  </thead>\n",
       "  <tbody>\n",
       "    <tr>\n",
       "      <th>88</th>\n",
       "      <td>1321224</td>\n",
       "      <td>686003</td>\n",
       "      <td>https://vi.wikipedia.org/wiki?curid=1321224</td>\n",
       "      <td>Yatağan, Muğla</td>\n",
       "      <td>Yatağan là một huyện thuộc tỉnh Muğla, Thổ Nhĩ...</td>\n",
       "      <td>3</td>\n",
       "      <td>5</td>\n",
       "      <td>132</td>\n",
       "    </tr>\n",
       "    <tr>\n",
       "      <th>119</th>\n",
       "      <td>1321256</td>\n",
       "      <td>790982</td>\n",
       "      <td>https://vi.wikipedia.org/wiki?curid=1321256</td>\n",
       "      <td>Phó tế</td>\n",
       "      <td>Phó tế hay thầy sáu trong tiếng Việt cổ, cũng ...</td>\n",
       "      <td>3</td>\n",
       "      <td>4</td>\n",
       "      <td>167</td>\n",
       "    </tr>\n",
       "    <tr>\n",
       "      <th>120</th>\n",
       "      <td>1321259</td>\n",
       "      <td>679363</td>\n",
       "      <td>https://vi.wikipedia.org/wiki?curid=1321259</td>\n",
       "      <td>Cừu Bharal</td>\n",
       "      <td>Cừu Bharal (danh pháp hai phần: \"Pseudois naya...</td>\n",
       "      <td>3</td>\n",
       "      <td>8</td>\n",
       "      <td>151</td>\n",
       "    </tr>\n",
       "    <tr>\n",
       "      <th>121</th>\n",
       "      <td>1321262</td>\n",
       "      <td>70336050</td>\n",
       "      <td>https://vi.wikipedia.org/wiki?curid=1321262</td>\n",
       "      <td>Nhạn bụng trắng</td>\n",
       "      <td>Nhạn bụng trắng hay nhạn nhà (danh pháp hai ph...</td>\n",
       "      <td>3</td>\n",
       "      <td>10</td>\n",
       "      <td>311</td>\n",
       "    </tr>\n",
       "    <tr>\n",
       "      <th>122</th>\n",
       "      <td>1321283</td>\n",
       "      <td>874327</td>\n",
       "      <td>https://vi.wikipedia.org/wiki?curid=1321283</td>\n",
       "      <td>Johann Heinrich von Thünen</td>\n",
       "      <td>Johann Heinrich von Thünen (24 tháng 6 năm 178...</td>\n",
       "      <td>3</td>\n",
       "      <td>3</td>\n",
       "      <td>144</td>\n",
       "    </tr>\n",
       "    <tr>\n",
       "      <th>...</th>\n",
       "      <td>...</td>\n",
       "      <td>...</td>\n",
       "      <td>...</td>\n",
       "      <td>...</td>\n",
       "      <td>...</td>\n",
       "      <td>...</td>\n",
       "      <td>...</td>\n",
       "      <td>...</td>\n",
       "    </tr>\n",
       "    <tr>\n",
       "      <th>1287655</th>\n",
       "      <td>1320961</td>\n",
       "      <td>721305</td>\n",
       "      <td>https://vi.wikipedia.org/wiki?curid=1320961</td>\n",
       "      <td>Kocaeli</td>\n",
       "      <td>Kocaeli là một thành phố tự trị (\"büyük şehir\"...</td>\n",
       "      <td>3</td>\n",
       "      <td>10</td>\n",
       "      <td>179</td>\n",
       "    </tr>\n",
       "    <tr>\n",
       "      <th>1287656</th>\n",
       "      <td>1320966</td>\n",
       "      <td>686003</td>\n",
       "      <td>https://vi.wikipedia.org/wiki?curid=1320966</td>\n",
       "      <td>Mardin</td>\n",
       "      <td>Mardin (tiếng Aramaic: ܡܶܪܕܺܝܢ, \"Merdin\"; Tiến...</td>\n",
       "      <td>9</td>\n",
       "      <td>14</td>\n",
       "      <td>447</td>\n",
       "    </tr>\n",
       "    <tr>\n",
       "      <th>1287657</th>\n",
       "      <td>1320968</td>\n",
       "      <td>730776</td>\n",
       "      <td>https://vi.wikipedia.org/wiki?curid=1320968</td>\n",
       "      <td>Muğla</td>\n",
       "      <td>Muğla là một thành phố tự trị (\"büyük şehir\") ...</td>\n",
       "      <td>5</td>\n",
       "      <td>12</td>\n",
       "      <td>212</td>\n",
       "    </tr>\n",
       "    <tr>\n",
       "      <th>1287665</th>\n",
       "      <td>1320985</td>\n",
       "      <td>686003</td>\n",
       "      <td>https://vi.wikipedia.org/wiki?curid=1320985</td>\n",
       "      <td>Tunceli</td>\n",
       "      <td>Tunceli (; , hay \"Mamekiye\")\\nlà một thành phố...</td>\n",
       "      <td>10</td>\n",
       "      <td>19</td>\n",
       "      <td>234</td>\n",
       "    </tr>\n",
       "    <tr>\n",
       "      <th>1287666</th>\n",
       "      <td>1320986</td>\n",
       "      <td>814981</td>\n",
       "      <td>https://vi.wikipedia.org/wiki?curid=1320986</td>\n",
       "      <td>Atrophaneura liris</td>\n",
       "      <td>Pachliopta liris là một loài bướm ngày thuộc h...</td>\n",
       "      <td>2</td>\n",
       "      <td>5</td>\n",
       "      <td>57</td>\n",
       "    </tr>\n",
       "  </tbody>\n",
       "</table>\n",
       "<p>280146 rows × 8 columns</p>\n",
       "</div>"
      ],
      "text/plain": [
       "              id     revid                                          url  \\\n",
       "88       1321224    686003  https://vi.wikipedia.org/wiki?curid=1321224   \n",
       "119      1321256    790982  https://vi.wikipedia.org/wiki?curid=1321256   \n",
       "120      1321259    679363  https://vi.wikipedia.org/wiki?curid=1321259   \n",
       "121      1321262  70336050  https://vi.wikipedia.org/wiki?curid=1321262   \n",
       "122      1321283    874327  https://vi.wikipedia.org/wiki?curid=1321283   \n",
       "...          ...       ...                                          ...   \n",
       "1287655  1320961    721305  https://vi.wikipedia.org/wiki?curid=1320961   \n",
       "1287656  1320966    686003  https://vi.wikipedia.org/wiki?curid=1320966   \n",
       "1287657  1320968    730776  https://vi.wikipedia.org/wiki?curid=1320968   \n",
       "1287665  1320985    686003  https://vi.wikipedia.org/wiki?curid=1320985   \n",
       "1287666  1320986    814981  https://vi.wikipedia.org/wiki?curid=1320986   \n",
       "\n",
       "                              title  \\\n",
       "88                   Yatağan, Muğla   \n",
       "119                          Phó tế   \n",
       "120                      Cừu Bharal   \n",
       "121                 Nhạn bụng trắng   \n",
       "122      Johann Heinrich von Thünen   \n",
       "...                             ...   \n",
       "1287655                     Kocaeli   \n",
       "1287656                      Mardin   \n",
       "1287657                       Muğla   \n",
       "1287665                     Tunceli   \n",
       "1287666          Atrophaneura liris   \n",
       "\n",
       "                                                      text  n_paragraphs  \\\n",
       "88       Yatağan là một huyện thuộc tỉnh Muğla, Thổ Nhĩ...             3   \n",
       "119      Phó tế hay thầy sáu trong tiếng Việt cổ, cũng ...             3   \n",
       "120      Cừu Bharal (danh pháp hai phần: \"Pseudois naya...             3   \n",
       "121      Nhạn bụng trắng hay nhạn nhà (danh pháp hai ph...             3   \n",
       "122      Johann Heinrich von Thünen (24 tháng 6 năm 178...             3   \n",
       "...                                                    ...           ...   \n",
       "1287655  Kocaeli là một thành phố tự trị (\"büyük şehir\"...             3   \n",
       "1287656  Mardin (tiếng Aramaic: ܡܶܪܕܺܝܢ, \"Merdin\"; Tiến...             9   \n",
       "1287657  Muğla là một thành phố tự trị (\"büyük şehir\") ...             5   \n",
       "1287665  Tunceli (; , hay \"Mamekiye\")\\nlà một thành phố...            10   \n",
       "1287666  Pachliopta liris là một loài bướm ngày thuộc h...             2   \n",
       "\n",
       "         n_sents  n_words  \n",
       "88             5      132  \n",
       "119            4      167  \n",
       "120            8      151  \n",
       "121           10      311  \n",
       "122            3      144  \n",
       "...          ...      ...  \n",
       "1287655       10      179  \n",
       "1287656       14      447  \n",
       "1287657       12      212  \n",
       "1287665       19      234  \n",
       "1287666        5       57  \n",
       "\n",
       "[280146 rows x 8 columns]"
      ]
     },
     "execution_count": 33,
     "metadata": {},
     "output_type": "execute_result"
    }
   ],
   "source": [
    "data[data[\"n_words\"]>50]"
   ]
  },
  {
   "cell_type": "code",
   "execution_count": 42,
   "metadata": {},
   "outputs": [
    {
     "name": "stderr",
     "output_type": "stream",
     "text": [
      "280146it [00:00, 1279898.80it/s]\n"
     ]
    }
   ],
   "source": [
    "links = []\n",
    "for i, title in tqdm(data[data[\"n_words\"]>50][\"title\"].items()):\n",
    "    links.append(f\"https://wikimedia.org/api/rest_v1/metrics/pageviews/per-article/vi.wikipedia.org/all-access/all-agents/{title.replace(' ', '_')}/daily/20210101/20240301\")"
   ]
  },
  {
   "cell_type": "code",
   "execution_count": 40,
   "metadata": {},
   "outputs": [
    {
     "data": {
      "text/plain": [
       "'https://wikimedia.org/api/rest_v1/metrics/pageviews/per-article/vi.wikipedia.org/all-access/all-agents/Cừu_Bharal/daily/'"
      ]
     },
     "execution_count": 40,
     "metadata": {},
     "output_type": "execute_result"
    }
   ],
   "source": [
    "links[2]"
   ]
  },
  {
   "cell_type": "code",
   "execution_count": 37,
   "metadata": {},
   "outputs": [],
   "source": [
    "data[data[\"n_words\"]>50].to_parquet(\"./db/wiki/docs/wiki_cleaned.parquet\", index=False)"
   ]
  },
  {
   "cell_type": "code",
   "execution_count": 43,
   "metadata": {},
   "outputs": [],
   "source": [
    "with open('./db/wiki/docs/links.txt', 'w') as f:\n",
    "    for link in links:\n",
    "        f.write(f\"{link}\\n\")"
   ]
  },
  {
   "cell_type": "code",
   "execution_count": 2,
   "metadata": {},
   "outputs": [
    {
     "ename": "ValueError",
     "evalue": "5 is not in list",
     "output_type": "error",
     "traceback": [
      "\u001b[0;31m---------------------------------------------------------------------------\u001b[0m",
      "\u001b[0;31mValueError\u001b[0m                                Traceback (most recent call last)",
      "Cell \u001b[0;32mIn[2], line 1\u001b[0m\n\u001b[0;32m----> 1\u001b[0m \u001b[43m[\u001b[49m\u001b[38;5;241;43m1\u001b[39;49m\u001b[43m,\u001b[49m\u001b[43m \u001b[49m\u001b[38;5;241;43m2\u001b[39;49m\u001b[43m,\u001b[49m\u001b[38;5;241;43m3\u001b[39;49m\u001b[43m]\u001b[49m\u001b[38;5;241;43m.\u001b[39;49m\u001b[43mindex\u001b[49m\u001b[43m(\u001b[49m\u001b[38;5;241;43m5\u001b[39;49m\u001b[43m)\u001b[49m\n",
      "\u001b[0;31mValueError\u001b[0m: 5 is not in list"
     ]
    }
   ],
   "source": [
    "[1, 2,3].index(5)"
   ]
  },
  {
   "cell_type": "code",
   "execution_count": 1,
   "metadata": {},
   "outputs": [
    {
     "name": "stderr",
     "output_type": "stream",
     "text": [
      "0it [00:00, ?it/s]"
     ]
    },
    {
     "name": "stderr",
     "output_type": "stream",
     "text": [
      "280146it [10:05, 462.58it/s] \n"
     ]
    }
   ],
   "source": [
    "import json\n",
    "from tqdm import tqdm\n",
    "\n",
    "data = {}\n",
    "\n",
    "with open(\"./db/wiki/docs/wiki_stats.jsonl\") as f:\n",
    "    for line in tqdm(f):\n",
    "        try:\n",
    "            line = json.loads(line)\n",
    "            line[\"content\"] = json.loads(line[\"content\"])\n",
    "            article = line[\"content\"][\"items\"][0][\"article\"]\n",
    "            # print(line[\"content\"])\n",
    "            views = sum([item[\"views\"] for item in line[\"content\"][\"items\"]])\n",
    "            if article in data:\n",
    "                data[article] += views\n",
    "            else:\n",
    "                data[article] = views\n",
    "        except:\n",
    "            pass\n",
    "        # data.append(line)\n",
    "        # break"
   ]
  },
  {
   "cell_type": "code",
   "execution_count": 5,
   "metadata": {},
   "outputs": [
    {
     "name": "stdout",
     "output_type": "stream",
     "text": [
      "Yatağan,_Muğla\n",
      "997\n"
     ]
    }
   ],
   "source": [
    "for article, views in data.items():\n",
    "    print(article)\n",
    "    print(views)\n",
    "    break"
   ]
  },
  {
   "cell_type": "code",
   "execution_count": 8,
   "metadata": {},
   "outputs": [],
   "source": [
    "data_sorted = sorted(data.items(), key=lambda x:x[1])"
   ]
  },
  {
   "cell_type": "code",
   "execution_count": 18,
   "metadata": {},
   "outputs": [
    {
     "data": {
      "text/plain": [
       "('Thành_Gifu', 3268)"
      ]
     },
     "execution_count": 18,
     "metadata": {},
     "output_type": "execute_result"
    }
   ],
   "source": [
    "data_sorted[-100000]"
   ]
  },
  {
   "cell_type": "code",
   "execution_count": null,
   "metadata": {},
   "outputs": [],
   "source": []
  },
  {
   "cell_type": "code",
   "execution_count": null,
   "metadata": {},
   "outputs": [],
   "source": []
  },
  {
   "cell_type": "code",
   "execution_count": null,
   "metadata": {},
   "outputs": [],
   "source": []
  },
  {
   "cell_type": "code",
   "execution_count": null,
   "metadata": {},
   "outputs": [],
   "source": []
  },
  {
   "cell_type": "code",
   "execution_count": null,
   "metadata": {},
   "outputs": [],
   "source": []
  },
  {
   "cell_type": "code",
   "execution_count": null,
   "metadata": {},
   "outputs": [],
   "source": []
  }
 ],
 "metadata": {
  "kernelspec": {
   "display_name": "advanced_llm",
   "language": "python",
   "name": "python3"
  },
  "language_info": {
   "codemirror_mode": {
    "name": "ipython",
    "version": 3
   },
   "file_extension": ".py",
   "mimetype": "text/x-python",
   "name": "python",
   "nbconvert_exporter": "python",
   "pygments_lexer": "ipython3",
   "version": "3.10.13"
  }
 },
 "nbformat": 4,
 "nbformat_minor": 2
}
